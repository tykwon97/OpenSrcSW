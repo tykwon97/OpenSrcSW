{
 "cells": [
  {
   "cell_type": "code",
   "execution_count": null,
   "metadata": {},
   "outputs": [],
   "source": [
    "\"\"\"\n",
    "** 주피터 노트북으로 진행하시는 분들도 있으니 일괄적으로 아래와 같이 실습 진행해주시기 바랍니다. **\n",
    "  \n",
    "실습 문제는 전부 input() 함수를 이용해서 문자열을 입력받도록 수정 바랍니다.\n",
    "  \n",
    "실습 6번 예시  userinput = input() (키보드로 \"cp file1 file2\" 입력)  → userinput = \"cp file1 file2\" (useriput 변수에 이와같은 문자열이 들어있게 됩니다. userinput 문자열을 이용하여 실습 진행하시면 됩니다.)\n",
    "\"\"\""
   ]
  },
  {
   "cell_type": "code",
   "execution_count": 5,
   "metadata": {},
   "outputs": [
    {
     "name": "stdout",
     "output_type": "stream",
     "text": [
      "cp file1 file3\n"
     ]
    }
   ],
   "source": [
    "\"\"\"\n",
    "실습 #6 : copy\n",
    "Unix의 cp(copy) 명령어를 python으로 구현하시오.\n",
    "예 : cp file1 file2\n",
    "file1의 내용을 file2에 복사 (file2는 새로 생성)\n",
    "\"\"\"\n",
    "\n",
    "userinput = input()\n",
    "userinput = userinput.split(\" \")\n",
    "location1 = userinput[1]+\".txt\"\n",
    "\n",
    "if(userinput[0] == \"cp\") :\n",
    "    location2 = userinput[2]+\".txt\"\n",
    "    f1 = open(location1,'r')\n",
    "    f2 = open(location2,'w')\n",
    "    lines = f1.readlines()\n",
    "\n",
    "    for line in lines :\n",
    "        data = \"{0:s}\".format(line)\n",
    "        f2.write(data)\n",
    "\n",
    "    f1.close()\n",
    "    f2.close()\n",
    "elif(userinput[0] == \"wc\") :\n",
    "    f1 = open(location1,'r')\n",
    "    lines = f1.readlines()\n",
    "    numLine = 0\n",
    "    numWord = 0\n",
    "    for line in lines :\n",
    "        line = line.split(\" \")\n",
    "        for word in line:\n",
    "            numWord += 1\n",
    "        numLine+=1\n",
    "    f1.close()\n",
    "    print(\"# of lines {0}\".format(numLine))\n",
    "    print(\"# of words {0}\".format(numWord))\n",
    "else:\n",
    "    print(\"잘못 입력하셨습니다.\")"
   ]
  },
  {
   "cell_type": "code",
   "execution_count": 6,
   "metadata": {},
   "outputs": [
    {
     "name": "stdout",
     "output_type": "stream",
     "text": [
      "wc file3\n",
      "# of lines 3\n",
      "# of words 11\n"
     ]
    }
   ],
   "source": [
    "\"\"\"\n",
    "실습 #7 : wc\n",
    "Unix의 wc 명령어를 python으로 구현하시오.\n",
    "예 : wc file1\n",
    "file1의 라인 수, 단어 수를 구하여 출력 (단어는 공백으로 구분된 스트링이라 가정)\n",
    "\"\"\"\n",
    "userinput = input()\n",
    "userinput = userinput.split(\" \")\n",
    "location1 = userinput[1]+\".txt\"\n",
    "\n",
    "if(userinput[0] == \"cp\") :\n",
    "    location2 = userinput[2]+\".txt\"\n",
    "    f1 = open(location1,'r')\n",
    "    f2 = open(location2,'w')\n",
    "    lines = f1.readlines()\n",
    "\n",
    "    for line in lines :\n",
    "        data = \"{0:s}\".format(line)\n",
    "        f2.write(data)\n",
    "\n",
    "    f1.close()\n",
    "    f2.close()\n",
    "elif(userinput[0] == \"wc\") :\n",
    "    f1 = open(location1,'r')\n",
    "    lines = f1.readlines()\n",
    "    numLine = 0\n",
    "    numWord = 0\n",
    "    for line in lines :\n",
    "        line = line.split(\" \")\n",
    "        for word in line:\n",
    "            numWord += 1\n",
    "        numLine+=1\n",
    "    f1.close()\n",
    "    print(\"# of lines {0}\".format(numLine))\n",
    "    print(\"# of words {0}\".format(numWord))\n",
    "else:\n",
    "    print(\"잘못 입력하셨습니다.\")"
   ]
  },
  {
   "cell_type": "code",
   "execution_count": 9,
   "metadata": {},
   "outputs": [
    {
     "name": "stdout",
     "output_type": "stream",
     "text": [
      "importing Jupyter notebook from week11_Calc.ipynb\n",
      "1 + 2 = 3 입니다.\n",
      "5 - 1 = 4 입니다.\n",
      "2 * 3 = 6 입니다.\n",
      "6 / 2 = 3.0 입니다.\n"
     ]
    }
   ],
   "source": [
    "\"\"\"\n",
    "실습 #8 : 사칙 연산 클래스\n",
    "\"\"\"\n",
    "import import_ipynb\n",
    "from week11_Calc import Calc1\n",
    "        \n",
    "calc = Calc1()\n",
    "calc.sum(1,2)\n",
    "calc.sub(5,1)\n",
    "calc.multi(2,3)\n",
    "calc.divi(6,2)"
   ]
  },
  {
   "cell_type": "code",
   "execution_count": 10,
   "metadata": {},
   "outputs": [
    {
     "name": "stdout",
     "output_type": "stream",
     "text": [
      "계산기 입력 : 4 - 3 + 2 * 8\n",
      "계산기 출력 : 4-3+2*8 = 24\n"
     ]
    }
   ],
   "source": [
    "\"\"\"\n",
    "실습 #9 : 계산기\n",
    "공백으로 구분되어 있는 계산식을 입력하면 스택을 이용하여 계산을 수행하고 그 결과를 출력하는 파이썬 프로그램을 작성하시오.\n",
    "\"\"\"\n",
    "import import_ipynb\n",
    "from week11_Calc import Calc2\n",
    "        \n",
    "userinput = input(\"계산기 입력 : \")\n",
    "userinput = userinput.split(\" \")\n",
    "\n",
    "calc = Calc2()\n",
    "for string in userinput :\n",
    "    num = calc.push(string)\n",
    "    if(num == 1) :\n",
    "        calc.pop()\n",
    "    #calc.check()\n",
    "\n",
    "print(\"계산기 출력 : \",end='')\n",
    "for string in userinput:\n",
    "    print(string,end='')\n",
    "print(\" = \",end='')\n",
    "print(calc.result())"
   ]
  },
  {
   "cell_type": "code",
   "execution_count": 8,
   "metadata": {},
   "outputs": [
    {
     "ename": "SyntaxError",
     "evalue": "invalid syntax (<ipython-input-8-9c4fbbbcba31>, line 2)",
     "output_type": "error",
     "traceback": [
      "\u001b[1;36m  File \u001b[1;32m\"<ipython-input-8-9c4fbbbcba31>\"\u001b[1;36m, line \u001b[1;32m2\u001b[0m\n\u001b[1;33m    from week11_Calc from Calc1\u001b[0m\n\u001b[1;37m                     ^\u001b[0m\n\u001b[1;31mSyntaxError\u001b[0m\u001b[1;31m:\u001b[0m invalid syntax\n"
     ]
    }
   ],
   "source": []
  }
 ],
 "metadata": {
  "kernelspec": {
   "display_name": "Python 3",
   "language": "python",
   "name": "python3"
  },
  "language_info": {
   "codemirror_mode": {
    "name": "ipython",
    "version": 3
   },
   "file_extension": ".py",
   "mimetype": "text/x-python",
   "name": "python",
   "nbconvert_exporter": "python",
   "pygments_lexer": "ipython3",
   "version": "3.8.5"
  }
 },
 "nbformat": 4,
 "nbformat_minor": 4
}
