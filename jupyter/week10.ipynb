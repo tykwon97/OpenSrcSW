{
 "cells": [
  {
   "cell_type": "code",
   "execution_count": 102,
   "metadata": {},
   "outputs": [
    {
     "name": "stdout",
     "output_type": "stream",
     "text": [
      "Numbers? 23 22 111 3 2 5\n",
      "Max = 111\n"
     ]
    }
   ],
   "source": [
    "#실습 2 : 최대값 구하기\n",
    "#숫자열을 입력 받아 최대값을 찾아내는 프로그램을 작성하시오.\n",
    "\n",
    "num = input(\"Numbers? \")\n",
    "num = num.split(\" \")\n",
    "\n",
    "num = [int (i) for i in num] #int형으로 변환\n",
    "\n",
    "max = num[0]\n",
    "\n",
    "for n in num :\n",
    "    if(max<n):\n",
    "        max = n\n",
    "    #print(\"n:\",n,\" max:\", max)\n",
    "    \n",
    "print(\"Max =\",max) "
   ]
  },
  {
   "cell_type": "code",
   "execution_count": 101,
   "metadata": {},
   "outputs": [
    {
     "name": "stdout",
     "output_type": "stream",
     "text": [
      "암호화 할 문자 : abc def\n",
      "암호화 : efg bcd \n",
      "복호화 할 문자 : efg bcd\n",
      "복호화 : abc def \n"
     ]
    }
   ],
   "source": [
    "#실습 3 : 암호화 / 복호화\n",
    "#입력 받은 문자열을 다음과 같은 방법으로 암호화하고 복호화하는 프로그램을 작성하시오\n",
    "#아스키 코드 얻는 법: code = ord(char)\n",
    "#아스키 코드를 문자로 바꾸는 법: char = chr(code)\n",
    "\n",
    "str = input(\"암호화 할 문자 : \") \n",
    "str = str.split(\" \")\n",
    "str.reverse()\n",
    "\n",
    "encryption=\"\"\n",
    "\n",
    "for string in str :\n",
    "    for s in string :\n",
    "        encryption += chr(ord(s)+1)\n",
    "    encryption += \" \"\n",
    "\n",
    "print(\"암호화 :\",encryption)\n",
    "\n",
    "str = input(\"복호화 할 문자 : \") \n",
    "str = str.split(\" \")\n",
    "str.reverse()\n",
    "\n",
    "decryption=\"\"\n",
    "\n",
    "for string in str :\n",
    "    for s in string :\n",
    "        decryption += chr(ord(s)-1)\n",
    "    decryption += \" \"\n",
    "\n",
    "print(\"복호화 :\",decryption)"
   ]
  },
  {
   "cell_type": "code",
   "execution_count": 125,
   "metadata": {},
   "outputs": [
    {
     "name": "stdout",
     "output_type": "stream",
     "text": [
      "입력 예시 : 홍길동 01011111111 권태윤 01022222222\n",
      "이름 + 공백 + 전화번호 + 이름 + 공백 + 전화번호 ...\n",
      "\n",
      "전화번호부 입력: 권 1234 태 1111 윤 2222 홍 1112 길 0909 동 9293 김 4444 강 3333 귤 2344 감 2235\n",
      "이름 검색 : 1 전화번호 검색 : 2 종료 : 3   ->   1\n",
      "이름 검색 : 홍\n",
      "전화번호 :  1112\n",
      "이름 검색 : 1 전화번호 검색 : 2 종료 : 3   ->   2\n",
      "전화번호 검색 : 0909\n",
      "이름 :  길\n",
      "이름 검색 : 1 전화번호 검색 : 2 종료 : 3   ->   3\n",
      "종료\n"
     ]
    }
   ],
   "source": [
    "#실습 4 : 전화번호부\n",
    "#10명의 이름과 전화번호를 입력 받아 전화번호 사전을 만들고, 이름과 전화번호를 검색하는 프로그램을 작성하시오.\n",
    "print(\"입력 예시 : 홍길동 01011111111 권태윤 01022222222\")\n",
    "print(\"이름 + 공백 + 전화번호 + 이름 + 공백 + 전화번호 ...\\n\")\n",
    "phonebook = input(\"전화번호부 입력: \")\n",
    "phonebook = phonebook.split(\" \")\n",
    "dic = {}\n",
    "i = 0\n",
    "name = \"\"\n",
    "number = \"\"\n",
    "for str in phonebook:\n",
    "    if(i==0):\n",
    "        name = str\n",
    "        i += 1\n",
    "    else:\n",
    "        number=str\n",
    "        dic[name]=number\n",
    "        i=0\n",
    "#print(dic)\n",
    "while(1):\n",
    "    num = int(input(\"이름 검색 : 1 전화번호 검색 : 2 종료 : 3   ->   \"))\n",
    "    if(num == 1):\n",
    "        name = input(\"이름 검색 : \")\n",
    "        print(\"전화번호 : \",dic[name])\n",
    "    \n",
    "    elif(num == 2):\n",
    "        number = input(\"전화번호 검색 : \")\n",
    "        for name in dic:\n",
    "            if(dic[name] == number):\n",
    "                print(\"이름 : \",name)\n",
    "    elif(num == 3):\n",
    "        print(\"종료\")\n",
    "        break\n",
    "    else :\n",
    "        print(\"잘못 입력하셨습니다\")\n",
    "\n"
   ]
  },
  {
   "cell_type": "code",
   "execution_count": null,
   "metadata": {},
   "outputs": [],
   "source": [
    "\n"
   ]
  }
 ],
 "metadata": {
  "kernelspec": {
   "display_name": "Python 3",
   "language": "python",
   "name": "python3"
  },
  "language_info": {
   "codemirror_mode": {
    "name": "ipython",
    "version": 3
   },
   "file_extension": ".py",
   "mimetype": "text/x-python",
   "name": "python",
   "nbconvert_exporter": "python",
   "pygments_lexer": "ipython3",
   "version": "3.8.5"
  }
 },
 "nbformat": 4,
 "nbformat_minor": 4
}
