{
 "cells": [
  {
   "cell_type": "code",
   "execution_count": 120,
   "metadata": {},
   "outputs": [
    {
     "name": "stdout",
     "output_type": "stream",
     "text": [
      "[1, 2]\n",
      "[3, 4]\n"
     ]
    },
    {
     "ename": "AttributeError",
     "evalue": "'NoneType' object has no attribute 'show'",
     "output_type": "error",
     "traceback": [
      "\u001b[1;31m---------------------------------------------------------------------------\u001b[0m",
      "\u001b[1;31mAttributeError\u001b[0m                            Traceback (most recent call last)",
      "\u001b[1;32m<ipython-input-120-3b9700f4fcb1>\u001b[0m in \u001b[0;36m<module>\u001b[1;34m\u001b[0m\n\u001b[0;32m     19\u001b[0m \u001b[1;33m\u001b[0m\u001b[0m\n\u001b[0;32m     20\u001b[0m \u001b[0ma\u001b[0m \u001b[1;33m=\u001b[0m \u001b[0ma\u001b[0m\u001b[1;33m+\u001b[0m\u001b[0mb\u001b[0m\u001b[1;33m\u001b[0m\u001b[1;33m\u001b[0m\u001b[0m\n\u001b[1;32m---> 21\u001b[1;33m \u001b[0ma\u001b[0m\u001b[1;33m.\u001b[0m\u001b[0mshow\u001b[0m\u001b[1;33m(\u001b[0m\u001b[1;33m)\u001b[0m\u001b[1;33m\u001b[0m\u001b[1;33m\u001b[0m\u001b[0m\n\u001b[0m",
      "\u001b[1;31mAttributeError\u001b[0m: 'NoneType' object has no attribute 'show'"
     ]
    }
   ],
   "source": [
    "#1 : Point라는 이름의 파이썬 클래스를 완성하여 아래와 같이 작동하도록 프로그램 하시오. (30점; 부분 점수없음) \n",
    "class Point :\n",
    "    array=[0,0]\n",
    "    def __init__ (self,a,b):\n",
    "        self.array[0]=a\n",
    "        self.array[1]=b\n",
    "    def show(self) :\n",
    "        print(self.array)\n",
    "        \n",
    "    def __add__(self,other) :\n",
    "        self.array[0]=self.array[0]+other.array[0]\n",
    "        self.array[1]=self.array[1]+other.array[1]\n",
    "    \n",
    "a = Point(1,2)\n",
    "a.show()\n",
    "\n",
    "b = Point(3,4)\n",
    "a.show()\n",
    "\n",
    "a = a+b\n",
    "a.show()"
   ]
  },
  {
   "cell_type": "code",
   "execution_count": 57,
   "metadata": {},
   "outputs": [
    {
     "name": "stdout",
     "output_type": "stream",
     "text": [
      "Max Week = 5/ 8  ~ 5/ 14\n"
     ]
    }
   ],
   "source": [
    "#2 : 2021년 5월1일부터 31일까지의 기온 데이터(“seoul.csv”)를 분석하여 일교차의 합이 가장 큰 1주일이 언제부터 언제인지 출력하시오. (35점; 핵심 알고리즘이 맞은 경우에 한해 부분 점수 있음)\n",
    "import csv\n",
    "f = open('Final_data/seoul.csv','r',encoding='cp949')\n",
    "data = csv.reader(f)\n",
    "header = next(data)\n",
    "\n",
    "num = 1\n",
    "arr = [0,0,0,0,0] #주차별 기록 저장\n",
    "week = 0 #주차 저장\n",
    "for row in data:\n",
    "    row[3] = float(row[3])\n",
    "    row[4] = float(row[4])\n",
    "    difference = row[4]-row[3]\n",
    "    arr[week] += arr[week] + difference\n",
    "\n",
    "    num+=1\n",
    "    if(num==8) :\n",
    "        week += 1\n",
    "        num=1\n",
    "        \n",
    "#print(arr)\n",
    "max_total = arr[0]\n",
    "max_week = 0\n",
    "for i in range(5) :\n",
    "    if(max_total < arr[i]):\n",
    "        max_total = arr[i]\n",
    "        max_week = i\n",
    "        #print(max_total)\n",
    "        #print(max_week)\n",
    "\n",
    "start = max_week*7 +1\n",
    "end = max_week*7 +7\n",
    "print(\"Max Week = 5/\",start,\" ~ 5/\",end)"
   ]
  },
  {
   "cell_type": "code",
   "execution_count": 98,
   "metadata": {},
   "outputs": [
    {
     "data": {
      "image/png": "[encoded data removed]",
      "text/plain": [
       "<Figure size 432x288 with 1 Axes>"
      ]
     },
     "metadata": {
      "needs_background": "light"
     },
     "output_type": "display_data"
    }
   ],
   "source": [
    "#3 :2차원(3*6) numpy array로 표현된 3개의 문서와 1차원 numpy array로 표현된 질의 사이의 \n",
    "#코사인 유사도를 계산하고 막대 그래프로 표시하는 프로그램을 작성하시오.\n",
    "#(35점; 그래프 표기 방법이 일부 다른 경우에 한해 부분 점수 있음) \n",
    "import numpy as np\n",
    "\n",
    "Docs = np.array([1,1,0,1,0,1,1,1,1,0,1,0,1,1,0,1,0,0]).reshape(3,6)\n",
    "Query = np.array([1,1,0,0,1,0])\n",
    "\n",
    "result=[0.0, 0.0, 0.0]\n",
    "\n",
    "for i in range(3) :\n",
    "    x=np.dot(Docs[i],Query)\n",
    "    y=np.sum(Docs[i])\n",
    "    y=y**(1/2)\n",
    "    z=np.sum(Query)\n",
    "    z=z**(1/2)\n",
    "    #print(\"i = \",i,\" x = \",x,\" y = \",y,\" z = \",z)\n",
    "    result[i] = x / y*z\n",
    "    \n",
    "#print(result)\n",
    "\n",
    "import matplotlib.pyplot as plt\n",
    "label=['doc1','doc2','doc3']\n",
    "plt.title('Cosine Similarities')\n",
    "plt.hist(result[0],label=label[0])\n",
    "plt.hist(result[1],label=label[1])\n",
    "plt.hist(result[2],label=label[2])\n",
    "plt.show()\n"
   ]
  }
 ],
 "metadata": {
  "kernelspec": {
   "display_name": "Python 3",
   "language": "python",
   "name": "python3"
  },
  "language_info": {
   "codemirror_mode": {
    "name": "ipython",
    "version": 3
   },
   "file_extension": ".py",
   "mimetype": "text/x-python",
   "name": "python",
   "nbconvert_exporter": "python",
   "pygments_lexer": "ipython3",
   "version": "3.8.5"
  }
 },
 "nbformat": 4,
 "nbformat_minor": 4
}
