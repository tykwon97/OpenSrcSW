{
 "cells": [
  {
   "cell_type": "code",
   "execution_count": 1,
   "metadata": {},
   "outputs": [
    {
     "name": "stdout",
     "output_type": "stream",
     "text": [
      "x값을 입력 받아 2차 방정식의 y값을 계산하는 프로그램을 작성하시오\n",
      "y = 3x^2 + 5x +3\n",
      "x = 2\n",
      "y =  25\n"
     ]
    }
   ],
   "source": [
    "#실습 1 : 수치 계산\n",
    "\n",
    "#x값을 입력 받아 2차 방정식의 y값을 계산하는 프로그램을 작성하시오\n",
    "# y = 3x^2 + 5x +3\n",
    "print(\"x값을 입력 받아 2차 방정식의 y값을 계산하는 프로그램을 작성하시오\")\n",
    "print(\"y = 3x^2 + 5x +3\")\n",
    "\n",
    "x = int(input(\"x = \"))\n",
    "y = 3*x*x + 5*x + 3\n",
    "print(\"y = \", y)\n",
    "\n"
   ]
  },
  {
   "cell_type": "code",
   "execution_count": 2,
   "metadata": {},
   "outputs": [
    {
     "name": "stdout",
     "output_type": "stream",
     "text": [
      "반지름 : 3\n",
      "원의 둘레 =  18.84\n",
      "원의 넓이 =  28.26\n"
     ]
    }
   ],
   "source": [
    "#실습 2 : 수치 계산\n",
    "\n",
    "#반지름을 입력 받아 원의 둘레와 넓이를 구하는 프로그램을 작성하시오\n",
    "# pi = 3.14\n",
    "\n",
    "r = int(input(\"반지름 : \"))\n",
    "print(\"원의 둘레 = \",r*2*3.14)\n",
    "print(\"원의 넓이 = \",r*r*3.14)\n"
   ]
  }
 ],
 "metadata": {
  "kernelspec": {
   "display_name": "Python 3",
   "language": "python",
   "name": "python3"
  },
  "language_info": {
   "codemirror_mode": {
    "name": "ipython",
    "version": 3
   },
   "file_extension": ".py",
   "mimetype": "text/x-python",
   "name": "python",
   "nbconvert_exporter": "python",
   "pygments_lexer": "ipython3",
   "version": "3.8.5"
  }
 },
 "nbformat": 4,
 "nbformat_minor": 4
}
