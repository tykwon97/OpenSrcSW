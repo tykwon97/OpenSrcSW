{
 "cells": [
  {
   "cell_type": "code",
   "execution_count": 3,
   "metadata": {},
   "outputs": [],
   "source": [
    "#실습 8번\n",
    "class Calc1:\n",
    "    def sum(self, a, b):\n",
    "        result = a + b\n",
    "        print(\"{0} + {1} = {2} 입니다.\".format(a,b,result))\n",
    "    def sub(self, a, b):\n",
    "        result = a - b\n",
    "        print(\"{0} - {1} = {2} 입니다.\".format(a,b,result))\n",
    "    def multi(self, a, b):\n",
    "        result = a * b\n",
    "        print(\"{0} * {1} = {2} 입니다.\".format(a,b,result))\n",
    "    def divi(self, a, b):\n",
    "        result = a / b\n",
    "        print(\"{0} / {1} = {2} 입니다.\".format(a,b,result))"
   ]
  },
  {
   "cell_type": "code",
   "execution_count": 4,
   "metadata": {},
   "outputs": [],
   "source": [
    "#실습 9번\n",
    "class Calc2:\n",
    "    op = []\n",
    "    num = []\n",
    "    \n",
    "    def push (self, userinput) :\n",
    "        #print(\"push--------------------------\")\n",
    "        if(userinput == \"+\" or userinput == \"-\" or userinput == \"*\" or userinput == \"/\") :\n",
    "            self.op.append(userinput)\n",
    "        else :\n",
    "            self.num.append(userinput)\n",
    "            if(len(self.num) == 2) :\n",
    "                return 1\n",
    "        return 0\n",
    "    def pop (self):\n",
    "        #print(\"pop---------------------------\")\n",
    "        if(self.op[-1] == \"+\") :\n",
    "            n = int(self.num[-2]) + int(self.num[-1])\n",
    "        elif(self.op[-1] == \"-\") :    \n",
    "            n = int(self.num[-2]) - int(self.num[-1])\n",
    "        elif(self.op[-1] == \"*\") :   \n",
    "            n = int(self.num[-2]) * int(self.num[-1])\n",
    "        elif(self.op[-1] == \"/\") :  \n",
    "            n = int(self.num[-2]) / int(self.num[-1])\n",
    "                \n",
    "        del self.op[-1]\n",
    "        del self.num[-1]\n",
    "        del self.num[-1]\n",
    "        self.num.append(n)\n",
    "    def result(self) :\n",
    "        return self.num[-1]\n",
    "    def check(self):\n",
    "        print(\"op : \",self.op)\n",
    "        print(\"num : \",self.num)\n",
    "            \n",
    "        \n"
   ]
  },
  {
   "cell_type": "code",
   "execution_count": null,
   "metadata": {},
   "outputs": [],
   "source": []
  }
 ],
 "metadata": {
  "kernelspec": {
   "display_name": "Python 3",
   "language": "python",
   "name": "python3"
  },
  "language_info": {
   "codemirror_mode": {
    "name": "ipython",
    "version": 3
   },
   "file_extension": ".py",
   "mimetype": "text/x-python",
   "name": "python",
   "nbconvert_exporter": "python",
   "pygments_lexer": "ipython3",
   "version": "3.8.5"
  }
 },
 "nbformat": 4,
 "nbformat_minor": 4
}
